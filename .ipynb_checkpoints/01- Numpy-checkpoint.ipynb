{
 "cells": [
  {
   "cell_type": "markdown",
   "id": "042f21da",
   "metadata": {},
   "source": [
    "# Numpy\n",
    "### Introduction:\n",
    "NumPy is a powerful Python library for numerical computation that includes a variety of tools for working with arrays and performing mathematical operations on them. Here's some of the solutions NUmpy is capable of delivering:\n",
    "\n",
    "- Create and manipulate multidimensional arrays using ndarray object.\n",
    "\n",
    "\n",
    "- Executing a range of built-in mathematical functions that can operate on arrays without the need for explicit loops.\n",
    "\n",
    "\n",
    "- Linear algebra, random number generation, Fourier transformation...\n",
    "\n",
    "\n",
    "- Several functions for saving and loading array data to/from disk, as well as working with memory-mapped files (smooth when working with lare datasets).\n",
    "\n",
    "\n",
    "- C API that allows developers to connect NumPy with libraries written in C, C++, or FORTRAN.\n",
    "\n",
    "### Contents:\n",
    "\n",
    "<ol>\n",
    "    <li>Import NumPy and create an array</li>\n",
    "    <li>10 to 100 times faster</li>\n",
    "    <li>Creating an array</li>\n",
    "    <li>Multidimensional arrays</li>\n",
    "    <li>Reshaping an array</li>\n",
    "    <li>Indexing and slicing</li>\n",
    "    <li>Arithmetic calculations: arrays of the same shape</li>\n",
    "    <li>Stastical methods</li>\n",
    "    <li>Linear algebra</li>\n",
    "    <li>Sorting</li>\n",
    "    <li>Convert an Image to an array</li>\n",
    "</ol>\n"
   ]
  },
  {
   "cell_type": "markdown",
   "id": "c56af878",
   "metadata": {},
   "source": [
    "##### 1. Import NumPy and create an array."
   ]
  },
  {
   "cell_type": "code",
   "execution_count": 1,
   "id": "7461e933",
   "metadata": {},
   "outputs": [
    {
     "data": {
      "text/plain": [
       "array([0, 1, 2, 3, 4, 5, 6, 7, 8, 9])"
      ]
     },
     "execution_count": 1,
     "metadata": {},
     "output_type": "execute_result"
    }
   ],
   "source": [
    "# Import numpy to have access numpy classes and functions.\n",
    "# We use 'np' alias as it is short and easy to type later on.\n",
    "import numpy as np\n",
    "\n",
    "# To create an array of values starting at 0, ending at 9 (number of values - 1) \n",
    "arr= np.arange(10)\n",
    "arr"
   ]
  },
  {
   "cell_type": "markdown",
   "id": "59835236",
   "metadata": {},
   "source": [
    "##### 2. 10 to 100 times faster \n",
    "A comparison of the compute time of a computational task utilizing NumPy arrays against built-in lists. NumPy is robust!"
   ]
  },
  {
   "cell_type": "code",
   "execution_count": 2,
   "id": "98ef7c31",
   "metadata": {},
   "outputs": [
    {
     "name": "stdout",
     "output_type": "stream",
     "text": [
      "CPU times: total: 0 ns\n",
      "Wall time: 1.01 ms\n",
      "CPU times: total: 15.6 ms\n",
      "Wall time: 12 ms\n"
     ]
    }
   ],
   "source": [
    "# Let's create a list \n",
    "arr1= np.arange(10000)\n",
    "ls1= list(range(10000))\n",
    "\n",
    "%time for i in range(5): arr2 = arr1 * 2\n",
    "\n",
    "%time for i in range(5): ls2 = [x * 2 for x in ls1] #list comprehension"
   ]
  },
  {
   "cell_type": "markdown",
   "id": "a1aece1c",
   "metadata": {},
   "source": [
    "Before we analyze the following output, it is necessary to define both CPU time and Wall time;\n",
    "\n",
    "\n",
    "CPU time is the amount of time the CPU spent running the code, whereas Wall time is the time spent executing the code plus the time spent waiting for inputs or outputs, as well as other considerations.\n",
    "\n",
    "The first block has a CPU time and wall time of 0 ns, indicating that while interacting with arrays, the function completed immediately. The second block, using lists, required 15.6 ms of CPU time and 8.21 ms of wall time to finish.\n",
    "\n",
    "While numerous techniques work together to make Numpy so strong and quick, one that stands out is vectorization, which is the act of doing operations on whole arrays or matrices rather than individual components (example: list iteration)."
   ]
  },
  {
   "cell_type": "markdown",
   "id": "284106c0",
   "metadata": {},
   "source": [
    "##### 3. Creating an array"
   ]
  },
  {
   "cell_type": "code",
   "execution_count": 3,
   "id": "948ec39e",
   "metadata": {},
   "outputs": [
    {
     "data": {
      "text/plain": [
       "array([1. , 6. , 9. , 2.5])"
      ]
     },
     "execution_count": 3,
     "metadata": {},
     "output_type": "execute_result"
    }
   ],
   "source": [
    "# Create a list of values then pass it to array function to create an array\n",
    "values= [1, 6, 9, 2.5]\n",
    "arr= np.array(values)\n",
    "arr"
   ]
  },
  {
   "cell_type": "markdown",
   "id": "dd79371a",
   "metadata": {},
   "source": [
    "##### 4. Multidimensional arrays "
   ]
  },
  {
   "cell_type": "code",
   "execution_count": 4,
   "id": "a178bbe8",
   "metadata": {
    "scrolled": true
   },
   "outputs": [
    {
     "data": {
      "text/plain": [
       "array([[ 3.30535055,  0.35710855,  0.59508915],\n",
       "       [-0.92879637,  0.19519674,  1.22961668],\n",
       "       [ 0.49645066,  1.62425657, -0.29768422]])"
      ]
     },
     "execution_count": 4,
     "metadata": {},
     "output_type": "execute_result"
    }
   ],
   "source": [
    "# Create a three-column, three-row array with randomly generated values.\n",
    "arr= np.random.randn(3,3)\n",
    "arr"
   ]
  },
  {
   "cell_type": "code",
   "execution_count": 5,
   "id": "5fb35bf2",
   "metadata": {},
   "outputs": [
    {
     "data": {
      "text/plain": [
       "(3, 3)"
      ]
     },
     "execution_count": 5,
     "metadata": {},
     "output_type": "execute_result"
    }
   ],
   "source": [
    "# To get the shape of Array\n",
    "arr.shape"
   ]
  },
  {
   "cell_type": "code",
   "execution_count": 6,
   "id": "29a74af5",
   "metadata": {},
   "outputs": [
    {
     "data": {
      "text/plain": [
       "dtype('float64')"
      ]
     },
     "execution_count": 6,
     "metadata": {},
     "output_type": "execute_result"
    }
   ],
   "source": [
    "# To get the type of data \n",
    "arr.dtype"
   ]
  },
  {
   "cell_type": "code",
   "execution_count": 7,
   "id": "2a92f48e",
   "metadata": {},
   "outputs": [
    {
     "data": {
      "text/plain": [
       "2"
      ]
     },
     "execution_count": 7,
     "metadata": {},
     "output_type": "execute_result"
    }
   ],
   "source": [
    "# To get the dimnension of an array (2 for having columns and rows)\n",
    "arr.ndim"
   ]
  },
  {
   "cell_type": "code",
   "execution_count": 8,
   "id": "89e5c263",
   "metadata": {},
   "outputs": [
    {
     "data": {
      "text/plain": [
       "array([[1, 2, 3, 4],\n",
       "       [5, 6, 7, 8]])"
      ]
     },
     "execution_count": 8,
     "metadata": {},
     "output_type": "execute_result"
    }
   ],
   "source": [
    "# Create a multidimensional array\n",
    "values= [[1,2,3,4], [5,6,7,8]]\n",
    "arr= np.array(values)\n",
    "arr"
   ]
  },
  {
   "cell_type": "code",
   "execution_count": 9,
   "id": "04e83f55",
   "metadata": {},
   "outputs": [
    {
     "data": {
      "text/plain": [
       "array([[0., 0., 0.],\n",
       "       [0., 0., 0.],\n",
       "       [0., 0., 0.]])"
      ]
     },
     "execution_count": 9,
     "metadata": {},
     "output_type": "execute_result"
    }
   ],
   "source": [
    "# Create an array with values initialized as 0 using zeros() function\n",
    "arr= np.zeros((3,3))\n",
    "arr"
   ]
  },
  {
   "cell_type": "code",
   "execution_count": 10,
   "id": "b32428a5",
   "metadata": {},
   "outputs": [
    {
     "data": {
      "text/plain": [
       "array([[5, 5, 5, 5],\n",
       "       [5, 5, 5, 5],\n",
       "       [5, 5, 5, 5],\n",
       "       [5, 5, 5, 5]])"
      ]
     },
     "execution_count": 10,
     "metadata": {},
     "output_type": "execute_result"
    }
   ],
   "source": [
    "# Create an array and fill it all with the same value\n",
    "arr= np.full((4,4), 5)\n",
    "arr"
   ]
  },
  {
   "cell_type": "markdown",
   "id": "28e2222f",
   "metadata": {},
   "source": [
    "##### 5. Reshaping an array"
   ]
  },
  {
   "cell_type": "code",
   "execution_count": 11,
   "id": "d217bea8",
   "metadata": {},
   "outputs": [
    {
     "data": {
      "text/plain": [
       "array([[ 0,  1,  2,  3,  4],\n",
       "       [ 5,  6,  7,  8,  9],\n",
       "       [10, 11, 12, 13, 14]])"
      ]
     },
     "execution_count": 11,
     "metadata": {},
     "output_type": "execute_result"
    }
   ],
   "source": [
    "# Reshpae a flat array \n",
    "arr= np.arange(15)\n",
    "arr= arr.reshape(3, 5) # make sure the cumltiplication of row and column \n",
    "                  # numbers passed in equal to the numbers of array \n",
    "                  # values (3x5= 15) \n",
    "arr"
   ]
  },
  {
   "cell_type": "markdown",
   "id": "0dd8b365",
   "metadata": {},
   "source": [
    "##### 6. Indexing and slicing"
   ]
  },
  {
   "cell_type": "code",
   "execution_count": 12,
   "id": "c84c5f05",
   "metadata": {},
   "outputs": [
    {
     "data": {
      "text/plain": [
       "array([[ 0,  1,  2,  3,  4],\n",
       "       [ 5,  6,  7,  8,  9],\n",
       "       [10, 11, 12, 13, 14]])"
      ]
     },
     "execution_count": 12,
     "metadata": {},
     "output_type": "execute_result"
    }
   ],
   "source": [
    "# Array to operate at\n",
    "arr"
   ]
  },
  {
   "cell_type": "code",
   "execution_count": 13,
   "id": "d2a1999c",
   "metadata": {},
   "outputs": [
    {
     "data": {
      "text/plain": [
       "array([0, 1, 2, 3, 4])"
      ]
     },
     "execution_count": 13,
     "metadata": {},
     "output_type": "execute_result"
    }
   ],
   "source": [
    "# To get the first line element\n",
    "arr[0]"
   ]
  },
  {
   "cell_type": "code",
   "execution_count": 14,
   "id": "1a4309ed",
   "metadata": {},
   "outputs": [
    {
     "data": {
      "text/plain": [
       "8"
      ]
     },
     "execution_count": 14,
     "metadata": {},
     "output_type": "execute_result"
    }
   ],
   "source": [
    "# To get the third value from the first line elemnt\n",
    "arr[1,3] "
   ]
  },
  {
   "cell_type": "code",
   "execution_count": 15,
   "id": "1b32dedf",
   "metadata": {},
   "outputs": [
    {
     "data": {
      "text/plain": [
       "array([[ 5,  6,  7,  8,  9],\n",
       "       [10, 11, 12, 13, 14]])"
      ]
     },
     "execution_count": 15,
     "metadata": {},
     "output_type": "execute_result"
    }
   ],
   "source": [
    "# To get elemnts beginng from the second one \n",
    "# get from A to B: arr[A:B]\n",
    "arr[1:]"
   ]
  },
  {
   "cell_type": "code",
   "execution_count": 16,
   "id": "d25056d4",
   "metadata": {},
   "outputs": [
    {
     "data": {
      "text/plain": [
       "array([ 2,  7, 12])"
      ]
     },
     "execution_count": 16,
     "metadata": {},
     "output_type": "execute_result"
    }
   ],
   "source": [
    "# To get all rows values of a column\n",
    "arr[:, 2]"
   ]
  },
  {
   "cell_type": "code",
   "execution_count": 17,
   "id": "06a420e6",
   "metadata": {},
   "outputs": [
    {
     "data": {
      "text/plain": [
       "array([5, 6])"
      ]
     },
     "execution_count": 17,
     "metadata": {},
     "output_type": "execute_result"
    }
   ],
   "source": [
    "# To get the first two elements of the second line \n",
    "# [line index, from : to]\n",
    "arr[1, :2]"
   ]
  },
  {
   "cell_type": "markdown",
   "id": "0a1e4da8",
   "metadata": {},
   "source": [
    "##### 7. Arithmetic calculations: arrays of the same shape "
   ]
  },
  {
   "cell_type": "code",
   "execution_count": 18,
   "id": "1b811590",
   "metadata": {},
   "outputs": [
    {
     "data": {
      "text/plain": [
       "array([5, 7, 9])"
      ]
     },
     "execution_count": 18,
     "metadata": {},
     "output_type": "execute_result"
    }
   ],
   "source": [
    "# Creating two arrays of the same shape\n",
    "arr1 = np.array([1, 2, 3])\n",
    "arr2 = np.array([4, 5, 6])\n",
    "\n",
    "# Addition\n",
    "arr1 + arr2"
   ]
  },
  {
   "cell_type": "code",
   "execution_count": 19,
   "id": "0dddd5a9",
   "metadata": {},
   "outputs": [
    {
     "data": {
      "text/plain": [
       "array([-3, -3, -3])"
      ]
     },
     "execution_count": 19,
     "metadata": {},
     "output_type": "execute_result"
    }
   ],
   "source": [
    "# Subtraction\n",
    "arr1 - arr2"
   ]
  },
  {
   "cell_type": "code",
   "execution_count": 20,
   "id": "5a574ddc",
   "metadata": {},
   "outputs": [
    {
     "data": {
      "text/plain": [
       "array([ 4, 10, 18])"
      ]
     },
     "execution_count": 20,
     "metadata": {},
     "output_type": "execute_result"
    }
   ],
   "source": [
    "# Multiplication \n",
    "arr1 * arr2"
   ]
  },
  {
   "cell_type": "code",
   "execution_count": 21,
   "id": "c5b1e25d",
   "metadata": {},
   "outputs": [
    {
     "data": {
      "text/plain": [
       "array([0.25, 0.4 , 0.5 ])"
      ]
     },
     "execution_count": 21,
     "metadata": {},
     "output_type": "execute_result"
    }
   ],
   "source": [
    "# Division \n",
    "arr1 / arr2"
   ]
  },
  {
   "cell_type": "code",
   "execution_count": 22,
   "id": "a6c8c593",
   "metadata": {
    "scrolled": true
   },
   "outputs": [
    {
     "data": {
      "text/plain": [
       "array([ 2.71828183,  7.3890561 , 20.08553692])"
      ]
     },
     "execution_count": 22,
     "metadata": {},
     "output_type": "execute_result"
    }
   ],
   "source": [
    "# Exponential \n",
    "np.exp(arr1)"
   ]
  },
  {
   "cell_type": "markdown",
   "id": "9e0deac6",
   "metadata": {},
   "source": [
    "##### 8. Stastical methods"
   ]
  },
  {
   "cell_type": "code",
   "execution_count": 23,
   "id": "6bd2c9ab",
   "metadata": {},
   "outputs": [
    {
     "data": {
      "text/plain": [
       "14"
      ]
     },
     "execution_count": 23,
     "metadata": {},
     "output_type": "execute_result"
    }
   ],
   "source": [
    "# To get max value \n",
    "arr.max()"
   ]
  },
  {
   "cell_type": "code",
   "execution_count": 24,
   "id": "0670a79b",
   "metadata": {},
   "outputs": [
    {
     "data": {
      "text/plain": [
       "0"
      ]
     },
     "execution_count": 24,
     "metadata": {},
     "output_type": "execute_result"
    }
   ],
   "source": [
    "# To get min value\n",
    "arr.min()"
   ]
  },
  {
   "cell_type": "code",
   "execution_count": 25,
   "id": "37db2496",
   "metadata": {},
   "outputs": [
    {
     "data": {
      "text/plain": [
       "array([ 2.,  7., 12.])"
      ]
     },
     "execution_count": 25,
     "metadata": {},
     "output_type": "execute_result"
    }
   ],
   "source": [
    "# To get the mean \n",
    "arr.mean()\n",
    "\n",
    "# to get the mean by row or columns, set the axis to \n",
    "# 0 for coulmn\n",
    "arr.mean(0)\n",
    "\n",
    "# 1 for rows\n",
    "arr.mean(1)"
   ]
  },
  {
   "cell_type": "markdown",
   "id": "06b5df1f",
   "metadata": {},
   "source": [
    "##### 9. Linear algebra"
   ]
  },
  {
   "cell_type": "code",
   "execution_count": 26,
   "id": "32c26eb4",
   "metadata": {},
   "outputs": [],
   "source": [
    "# Create two arrays \n",
    "arr1 = np.array([[1, 2], [3, 4]])\n",
    "arr2 = np.array([[5, 6], [7, 8]])"
   ]
  },
  {
   "cell_type": "code",
   "execution_count": 27,
   "id": "ad759ef3",
   "metadata": {},
   "outputs": [
    {
     "data": {
      "text/plain": [
       "array([[19, 22],\n",
       "       [43, 50]])"
      ]
     },
     "execution_count": 27,
     "metadata": {},
     "output_type": "execute_result"
    }
   ],
   "source": [
    "# Dot product\n",
    "np.dot(arr1, arr2)"
   ]
  },
  {
   "cell_type": "code",
   "execution_count": 28,
   "id": "d9a5eaf0",
   "metadata": {},
   "outputs": [
    {
     "data": {
      "text/plain": [
       "array([[19, 22],\n",
       "       [43, 50]])"
      ]
     },
     "execution_count": 28,
     "metadata": {},
     "output_type": "execute_result"
    }
   ],
   "source": [
    "# Matrix multiplication\n",
    "np.matmul(arr1, arr2)"
   ]
  },
  {
   "cell_type": "markdown",
   "id": "6c3e1720",
   "metadata": {},
   "source": [
    "When we used the functions dot() and matmul, we received the same results. Nevertheless, they are not the same since the dot() method operates on an arrays of the same size whereas matmul() the dimensions aren't considered as it applies broadcasting rules."
   ]
  },
  {
   "cell_type": "code",
   "execution_count": 29,
   "id": "680d9793",
   "metadata": {},
   "outputs": [
    {
     "data": {
      "text/plain": [
       "array([[1, 3],\n",
       "       [2, 4]])"
      ]
     },
     "execution_count": 29,
     "metadata": {},
     "output_type": "execute_result"
    }
   ],
   "source": [
    "# Matrix transpose\n",
    "np.transpose(arr1)\n",
    "# or\n",
    "arr1.T"
   ]
  },
  {
   "cell_type": "code",
   "execution_count": 30,
   "id": "258d134b",
   "metadata": {},
   "outputs": [
    {
     "data": {
      "text/plain": [
       "array([[-2. ,  1. ],\n",
       "       [ 1.5, -0.5]])"
      ]
     },
     "execution_count": 30,
     "metadata": {},
     "output_type": "execute_result"
    }
   ],
   "source": [
    "# Matrix Inverse \n",
    "np.linalg.inv(arr1)"
   ]
  },
  {
   "cell_type": "markdown",
   "id": "0d3e63eb",
   "metadata": {},
   "source": [
    "##### 10. Sorting"
   ]
  },
  {
   "cell_type": "code",
   "execution_count": 31,
   "id": "ec789c30",
   "metadata": {},
   "outputs": [
    {
     "data": {
      "text/plain": [
       "array([1, 2, 3, 4, 5])"
      ]
     },
     "execution_count": 31,
     "metadata": {},
     "output_type": "execute_result"
    }
   ],
   "source": [
    "# 1 dimensional array\n",
    "arr= np.array([3, 2, 1, 4, 5])\n",
    "arr.sort()\n",
    "arr"
   ]
  },
  {
   "cell_type": "code",
   "execution_count": 32,
   "id": "304ae348",
   "metadata": {},
   "outputs": [
    {
     "data": {
      "text/plain": [
       "array([[3, 2, 0, 4, 1],\n",
       "       [7, 9, 1, 4, 5]])"
      ]
     },
     "execution_count": 32,
     "metadata": {},
     "output_type": "execute_result"
    }
   ],
   "source": [
    "# 2 dimensional array\n",
    "arr= np.array([[3, 2, 1, 4, 5], [7, 9, 0, 4, 1]])\n",
    "\n",
    "# To sort by columns set index to 0\n",
    "arr.sort(0)\n",
    "arr"
   ]
  },
  {
   "cell_type": "code",
   "execution_count": 33,
   "id": "3e59e967",
   "metadata": {},
   "outputs": [
    {
     "data": {
      "text/plain": [
       "array([[0, 1, 2, 3, 4],\n",
       "       [1, 4, 5, 7, 9]])"
      ]
     },
     "execution_count": 33,
     "metadata": {},
     "output_type": "execute_result"
    }
   ],
   "source": [
    "# To sort by rows set index to 1\n",
    "arr.sort(1)\n",
    "arr"
   ]
  },
  {
   "cell_type": "markdown",
   "id": "320bdfee",
   "metadata": {},
   "source": [
    "##### 11. Convert an Image to an array "
   ]
  },
  {
   "cell_type": "markdown",
   "id": "95310355",
   "metadata": {},
   "source": [
    "A. Import the image "
   ]
  },
  {
   "cell_type": "code",
   "execution_count": 34,
   "id": "561c8e0a",
   "metadata": {},
   "outputs": [],
   "source": [
    "from PIL import Image\n",
    "image= Image.open('images/nature.jpg')"
   ]
  },
  {
   "cell_type": "markdown",
   "id": "efa63706",
   "metadata": {},
   "source": [
    "B. Convert the imported image to an array "
   ]
  },
  {
   "cell_type": "code",
   "execution_count": 35,
   "id": "ceec0489",
   "metadata": {},
   "outputs": [
    {
     "data": {
      "text/plain": [
       "3"
      ]
     },
     "execution_count": 35,
     "metadata": {},
     "output_type": "execute_result"
    }
   ],
   "source": [
    "mat= np.array(image)\n",
    "mat.ndim"
   ]
  },
  {
   "cell_type": "markdown",
   "id": "8271a035",
   "metadata": {},
   "source": [
    "3 dimensions correspending to width, height and number of color channels of the image "
   ]
  },
  {
   "cell_type": "code",
   "execution_count": 36,
   "id": "993e8518",
   "metadata": {},
   "outputs": [
    {
     "data": {
      "text/plain": [
       "(334, 500, 3)"
      ]
     },
     "execution_count": 36,
     "metadata": {},
     "output_type": "execute_result"
    }
   ],
   "source": [
    "mat.shape"
   ]
  },
  {
   "cell_type": "markdown",
   "id": "0cbad279",
   "metadata": {},
   "source": [
    "334: Height\n",
    "\n",
    "550: Width\n",
    "\n",
    "3:  Number of color channels (Red Green Blue)"
   ]
  }
 ],
 "metadata": {
  "kernelspec": {
   "display_name": "Python 3 (ipykernel)",
   "language": "python",
   "name": "python3"
  },
  "language_info": {
   "codemirror_mode": {
    "name": "ipython",
    "version": 3
   },
   "file_extension": ".py",
   "mimetype": "text/x-python",
   "name": "python",
   "nbconvert_exporter": "python",
   "pygments_lexer": "ipython3",
   "version": "3.9.12"
  }
 },
 "nbformat": 4,
 "nbformat_minor": 5
}
