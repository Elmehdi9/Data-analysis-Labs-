{
 "cells": [
  {
   "cell_type": "markdown",
   "id": "cb8b8ad9",
   "metadata": {},
   "source": [
    "## Exploratory Data Analysis (EDA): Second-hand cars\n",
    "### Imports and reading data"
   ]
  },
  {
   "cell_type": "code",
   "execution_count": 54,
   "id": "78f545b0",
   "metadata": {},
   "outputs": [],
   "source": [
    "import pandas as pd \n",
    "import glob\n",
    "import numpy as np\n",
    "import matplotlib.pyplot as plt \n",
    "import seaborn as sns\n",
    "plt.style.use('ggplot')\n"
   ]
  },
  {
   "cell_type": "code",
   "execution_count": 63,
   "id": "20f6ceb7",
   "metadata": {},
   "outputs": [
    {
     "data": {
      "text/html": [
       "<div>\n",
       "<style scoped>\n",
       "    .dataframe tbody tr th:only-of-type {\n",
       "        vertical-align: middle;\n",
       "    }\n",
       "\n",
       "    .dataframe tbody tr th {\n",
       "        vertical-align: top;\n",
       "    }\n",
       "\n",
       "    .dataframe thead th {\n",
       "        text-align: right;\n",
       "    }\n",
       "</style>\n",
       "<table border=\"1\" class=\"dataframe\">\n",
       "  <thead>\n",
       "    <tr style=\"text-align: right;\">\n",
       "      <th></th>\n",
       "      <th>model</th>\n",
       "      <th>year</th>\n",
       "      <th>price</th>\n",
       "      <th>transmission</th>\n",
       "      <th>mileage</th>\n",
       "      <th>fuelType</th>\n",
       "      <th>tax</th>\n",
       "      <th>mpg</th>\n",
       "      <th>engineSize</th>\n",
       "      <th>mark</th>\n",
       "    </tr>\n",
       "  </thead>\n",
       "  <tbody>\n",
       "    <tr>\n",
       "      <th>0</th>\n",
       "      <td>A1</td>\n",
       "      <td>2017</td>\n",
       "      <td>12500</td>\n",
       "      <td>Manual</td>\n",
       "      <td>15735</td>\n",
       "      <td>Petrol</td>\n",
       "      <td>150.0</td>\n",
       "      <td>55.4</td>\n",
       "      <td>1.4</td>\n",
       "      <td>audi</td>\n",
       "    </tr>\n",
       "    <tr>\n",
       "      <th>1</th>\n",
       "      <td>A6</td>\n",
       "      <td>2016</td>\n",
       "      <td>16500</td>\n",
       "      <td>Automatic</td>\n",
       "      <td>36203</td>\n",
       "      <td>Diesel</td>\n",
       "      <td>20.0</td>\n",
       "      <td>64.2</td>\n",
       "      <td>2.0</td>\n",
       "      <td>audi</td>\n",
       "    </tr>\n",
       "    <tr>\n",
       "      <th>2</th>\n",
       "      <td>A1</td>\n",
       "      <td>2016</td>\n",
       "      <td>11000</td>\n",
       "      <td>Manual</td>\n",
       "      <td>29946</td>\n",
       "      <td>Petrol</td>\n",
       "      <td>30.0</td>\n",
       "      <td>55.4</td>\n",
       "      <td>1.4</td>\n",
       "      <td>audi</td>\n",
       "    </tr>\n",
       "    <tr>\n",
       "      <th>3</th>\n",
       "      <td>A4</td>\n",
       "      <td>2017</td>\n",
       "      <td>16800</td>\n",
       "      <td>Automatic</td>\n",
       "      <td>25952</td>\n",
       "      <td>Diesel</td>\n",
       "      <td>145.0</td>\n",
       "      <td>67.3</td>\n",
       "      <td>2.0</td>\n",
       "      <td>audi</td>\n",
       "    </tr>\n",
       "    <tr>\n",
       "      <th>4</th>\n",
       "      <td>A3</td>\n",
       "      <td>2019</td>\n",
       "      <td>17300</td>\n",
       "      <td>Manual</td>\n",
       "      <td>1998</td>\n",
       "      <td>Petrol</td>\n",
       "      <td>145.0</td>\n",
       "      <td>49.6</td>\n",
       "      <td>1.0</td>\n",
       "      <td>audi</td>\n",
       "    </tr>\n",
       "    <tr>\n",
       "      <th>...</th>\n",
       "      <td>...</td>\n",
       "      <td>...</td>\n",
       "      <td>...</td>\n",
       "      <td>...</td>\n",
       "      <td>...</td>\n",
       "      <td>...</td>\n",
       "      <td>...</td>\n",
       "      <td>...</td>\n",
       "      <td>...</td>\n",
       "      <td>...</td>\n",
       "    </tr>\n",
       "    <tr>\n",
       "      <th>108535</th>\n",
       "      <td>Eos</td>\n",
       "      <td>2012</td>\n",
       "      <td>5990</td>\n",
       "      <td>Manual</td>\n",
       "      <td>74000</td>\n",
       "      <td>Diesel</td>\n",
       "      <td>125.0</td>\n",
       "      <td>58.9</td>\n",
       "      <td>2.0</td>\n",
       "      <td>vw</td>\n",
       "    </tr>\n",
       "    <tr>\n",
       "      <th>108536</th>\n",
       "      <td>Fox</td>\n",
       "      <td>2008</td>\n",
       "      <td>1799</td>\n",
       "      <td>Manual</td>\n",
       "      <td>88102</td>\n",
       "      <td>Petrol</td>\n",
       "      <td>145.0</td>\n",
       "      <td>46.3</td>\n",
       "      <td>1.2</td>\n",
       "      <td>vw</td>\n",
       "    </tr>\n",
       "    <tr>\n",
       "      <th>108537</th>\n",
       "      <td>Fox</td>\n",
       "      <td>2009</td>\n",
       "      <td>1590</td>\n",
       "      <td>Manual</td>\n",
       "      <td>70000</td>\n",
       "      <td>Petrol</td>\n",
       "      <td>200.0</td>\n",
       "      <td>42.0</td>\n",
       "      <td>1.4</td>\n",
       "      <td>vw</td>\n",
       "    </tr>\n",
       "    <tr>\n",
       "      <th>108538</th>\n",
       "      <td>Fox</td>\n",
       "      <td>2006</td>\n",
       "      <td>1250</td>\n",
       "      <td>Manual</td>\n",
       "      <td>82704</td>\n",
       "      <td>Petrol</td>\n",
       "      <td>150.0</td>\n",
       "      <td>46.3</td>\n",
       "      <td>1.2</td>\n",
       "      <td>vw</td>\n",
       "    </tr>\n",
       "    <tr>\n",
       "      <th>108539</th>\n",
       "      <td>Fox</td>\n",
       "      <td>2007</td>\n",
       "      <td>2295</td>\n",
       "      <td>Manual</td>\n",
       "      <td>74000</td>\n",
       "      <td>Petrol</td>\n",
       "      <td>145.0</td>\n",
       "      <td>46.3</td>\n",
       "      <td>1.2</td>\n",
       "      <td>vw</td>\n",
       "    </tr>\n",
       "  </tbody>\n",
       "</table>\n",
       "<p>108540 rows × 10 columns</p>\n",
       "</div>"
      ],
      "text/plain": [
       "       model  year  price transmission  mileage fuelType    tax   mpg  \\\n",
       "0         A1  2017  12500       Manual    15735   Petrol  150.0  55.4   \n",
       "1         A6  2016  16500    Automatic    36203   Diesel   20.0  64.2   \n",
       "2         A1  2016  11000       Manual    29946   Petrol   30.0  55.4   \n",
       "3         A4  2017  16800    Automatic    25952   Diesel  145.0  67.3   \n",
       "4         A3  2019  17300       Manual     1998   Petrol  145.0  49.6   \n",
       "...      ...   ...    ...          ...      ...      ...    ...   ...   \n",
       "108535   Eos  2012   5990       Manual    74000   Diesel  125.0  58.9   \n",
       "108536   Fox  2008   1799       Manual    88102   Petrol  145.0  46.3   \n",
       "108537   Fox  2009   1590       Manual    70000   Petrol  200.0  42.0   \n",
       "108538   Fox  2006   1250       Manual    82704   Petrol  150.0  46.3   \n",
       "108539   Fox  2007   2295       Manual    74000   Petrol  145.0  46.3   \n",
       "\n",
       "        engineSize  mark  \n",
       "0              1.4  audi  \n",
       "1              2.0  audi  \n",
       "2              1.4  audi  \n",
       "3              2.0  audi  \n",
       "4              1.0  audi  \n",
       "...            ...   ...  \n",
       "108535         2.0    vw  \n",
       "108536         1.2    vw  \n",
       "108537         1.4    vw  \n",
       "108538         1.2    vw  \n",
       "108539         1.2    vw  \n",
       "\n",
       "[108540 rows x 10 columns]"
      ]
     },
     "execution_count": 63,
     "metadata": {},
     "output_type": "execute_result"
    }
   ],
   "source": [
    "# Read all csv fils in the directory \n",
    "files= glob.glob('data/*.csv')\n",
    "\n",
    "cars_mark= ['audi', 'bmw', 'cclass', 'focus', 'ford', 'hyundi', 'merc', 'skoda', 'toyota', 'vauxhall', 'vw']\n",
    "dfs_list= []\n",
    "\n",
    "# Concatenate dataframes\n",
    "for file, mark in zip(files, cars_mark):\n",
    "    df= pd.read_csv(file).rename(columns= {'tax(£)': 'tax'})\n",
    "    df['mark']= mark\n",
    "    dfs_list.append(df)\n",
    "df= pd.concat(dfs_list)\n",
    "\n",
    "# Reset index and display datase shape \n",
    "df.reset_index(drop= True, inplace= True)\n",
    "df"
   ]
  },
  {
   "cell_type": "markdown",
   "id": "f056a35b",
   "metadata": {},
   "source": [
    "## 1. Description of Individual Variables\n",
    "### 1.1 Price"
   ]
  },
  {
   "cell_type": "code",
   "execution_count": 3,
   "id": "99c3c8e7",
   "metadata": {},
   "outputs": [
    {
     "data": {
      "text/plain": [
       "count    108540.000000\n",
       "mean      16890.124046\n",
       "std        9756.266820\n",
       "min         450.000000\n",
       "25%       10229.500000\n",
       "50%       14698.000000\n",
       "75%       20940.000000\n",
       "max      159999.000000\n",
       "Name: price, dtype: float64"
      ]
     },
     "execution_count": 3,
     "metadata": {},
     "output_type": "execute_result"
    }
   ],
   "source": [
    "df.price.describe()"
   ]
  },
  {
   "cell_type": "markdown",
   "id": "76473619",
   "metadata": {},
   "source": [
    "In an interpretation of the standard deviation we can tell that our dataset is highly varied in terms of cars pricing that can also be backed up with the large difference between max and min values."
   ]
  },
  {
   "cell_type": "code",
   "execution_count": 23,
   "id": "80b8b208",
   "metadata": {
    "scrolled": false
   },
   "outputs": [
    {
     "data": {
      "text/plain": [
       "<matplotlib.lines.Line2D at 0x24a25c96b20>"
      ]
     },
     "execution_count": 23,
     "metadata": {},
     "output_type": "execute_result"
    },
    {
     "data": {
      "image/png": "[encoded data removed]",
      "text/plain": [
       "<Figure size 720x576 with 1 Axes>"
      ]
     },
     "metadata": {},
     "output_type": "display_data"
    }
   ],
   "source": [
    "fig, ax = plt.subplots(figsize=(10,8))\n",
    "ax.hist(df.price, bins= 200)\n",
    "ax.axvline(df.price.mean(), c= 'blue')\n",
    "ax.axvline(df.price.median(), c= 'green')"
   ]
  },
  {
   "cell_type": "markdown",
   "id": "4e68665b",
   "metadata": {},
   "source": [
    "Looking at this histogram we can conclude that cars prics are largely distributed between 5K and 30K."
   ]
  },
  {
   "cell_type": "markdown",
   "id": "27663bd4",
   "metadata": {},
   "source": [
    "### 1.2 Vehicle mark and model "
   ]
  },
  {
   "cell_type": "code",
   "execution_count": 25,
   "id": "3ae7b050",
   "metadata": {},
   "outputs": [
    {
     "data": {
      "text/plain": [
       "<BarContainer object of 11 artists>"
      ]
     },
     "execution_count": 25,
     "metadata": {},
     "output_type": "execute_result"
    },
    {
     "data": {
      "image/png": "[encoded data removed]",
      "text/plain": [
       "<Figure size 720x576 with 1 Axes>"
      ]
     },
     "metadata": {},
     "output_type": "display_data"
    }
   ],
   "source": [
    "fig, ax = plt.subplots(figsize=(10,8))\n",
    "ax.barh(df.mark.unique(), df.mark.value_counts())"
   ]
  },
  {
   "cell_type": "code",
   "execution_count": 53,
   "id": "af50cdda",
   "metadata": {},
   "outputs": [
    {
     "data": {
      "image/png": "[encoded data removed]",
      "text/plain": [
       "<Figure size 720x576 with 1 Axes>"
      ]
     },
     "metadata": {},
     "output_type": "display_data"
    }
   ],
   "source": [
    "grouped = df.groupby('mark')['model'].nunique()\n",
    "fig, ax = plt.subplots(figsize=(10,8))\n",
    "ax.barh(grouped.index, grouped.values)\n",
    "plt.show()"
   ]
  },
  {
   "cell_type": "markdown",
   "id": "6ca9bdf2",
   "metadata": {},
   "source": [
    "### 1.3 Year of registration\n",
    "Looking into the year column which refers to the year of registration which basiccaly means the age of the car. We can see that the maximum car registration is 2060! While the min is resonable. however we still need t tidy up this variable by keeping cars with a year of registration ranging between 1970 (min) and 2023 (current year)."
   ]
  },
  {
   "cell_type": "code",
   "execution_count": 57,
   "id": "aba05aba",
   "metadata": {},
   "outputs": [
    {
     "data": {
      "text/plain": [
       "count    108540.000000\n",
       "mean       2017.098028\n",
       "std           2.130057\n",
       "min        1970.000000\n",
       "25%        2016.000000\n",
       "50%        2017.000000\n",
       "75%        2019.000000\n",
       "max        2060.000000\n",
       "Name: year, dtype: float64"
      ]
     },
     "execution_count": 57,
     "metadata": {},
     "output_type": "execute_result"
    }
   ],
   "source": [
    "df.year.describe()"
   ]
  },
  {
   "cell_type": "code",
   "execution_count": 74,
   "id": "906034a2",
   "metadata": {},
   "outputs": [
    {
     "data": {
      "text/plain": [
       "(array([2.0000e+00, 0.0000e+00, 0.0000e+00, 0.0000e+00, 1.0000e+00,\n",
       "        2.2000e+01, 1.5900e+02, 9.1500e+02, 8.7430e+03, 9.8697e+04]),\n",
       " array([1970., 1975., 1980., 1985., 1990., 1995., 2000., 2005., 2010.,\n",
       "        2015., 2020.]),\n",
       " <BarContainer object of 10 artists>)"
      ]
     },
     "execution_count": 74,
     "metadata": {},
     "output_type": "execute_result"
    },
    {
     "data": {
      "image/png": "[encoded data removed]",
      "text/plain": [
       "<Figure size 720x576 with 1 Axes>"
      ]
     },
     "metadata": {},
     "output_type": "display_data"
    }
   ],
   "source": [
    "df= df.loc[(df['year'] >= 1970) & (df['year'] <= 2023)]\n",
    "\n",
    "fig, ax = plt.subplots(figsize=(10,8))\n",
    "ax.hist(df.year)"
   ]
  },
  {
   "cell_type": "markdown",
   "id": "15433a01",
   "metadata": {},
   "source": [
    "It is so clear that the cars we've got here are mainly registered during thr last decades especially 2015-2020 as this period is illustrated by the only peak in the graph"
   ]
  },
  {
   "cell_type": "markdown",
   "id": "374f97a7",
   "metadata": {},
   "source": [
    "## 1.4 Transmission Type "
   ]
  },
  {
   "cell_type": "code",
   "execution_count": 88,
   "id": "9a00b1b7",
   "metadata": {},
   "outputs": [
    {
     "data": {
      "image/png": "[encoded data removed]",
      "text/plain": [
       "<Figure size 720x576 with 1 Axes>"
      ]
     },
     "metadata": {},
     "output_type": "display_data"
    }
   ],
   "source": [
    "fig, ax = plt.subplots(figsize=(10,8))\n",
    "ax.hist(df.transmission)\n",
    "plt.show()"
   ]
  },
  {
   "cell_type": "markdown",
   "id": "f821c963",
   "metadata": {},
   "source": [
    "The market is primarily a manual transmission market. Note that Semi-Auto transmission cars are slightly more present then the Automatic ones. "
   ]
  },
  {
   "cell_type": "markdown",
   "id": "547d74fb",
   "metadata": {},
   "source": [
    "## 1.5 Mileage"
   ]
  },
  {
   "cell_type": "code",
   "execution_count": 86,
   "id": "fd6a7b71",
   "metadata": {
    "scrolled": false
   },
   "outputs": [
    {
     "data": {
      "image/png": "[encoded data removed]",
      "text/plain": [
       "<Figure size 720x576 with 1 Axes>"
      ]
     },
     "metadata": {},
     "output_type": "display_data"
    }
   ],
   "source": [
    "fig, ax = plt.subplots(figsize=(10,8))\n",
    "ax.hist(df.mileage, bins= 200) \n",
    "plt.show()"
   ]
  },
  {
   "cell_type": "markdown",
   "id": "c276db6b",
   "metadata": {},
   "source": [
    "The plot illustrates how mileage is mainly ranged between 0 and 25 0000 KM. The second thind to note is how the peak represent cars with considerably ey low mileage which is not normal when talking about secon-hands cars "
   ]
  },
  {
   "cell_type": "markdown",
   "id": "cd487518",
   "metadata": {},
   "source": [
    "## 1.6 Fuel Type "
   ]
  },
  {
   "cell_type": "code",
   "execution_count": 91,
   "id": "8af2a007",
   "metadata": {},
   "outputs": [
    {
     "data": {
      "image/png": "[encoded data removed]",
      "text/plain": [
       "<Figure size 720x576 with 1 Axes>"
      ]
     },
     "metadata": {},
     "output_type": "display_data"
    }
   ],
   "source": [
    "fig, ax = plt.subplots(figsize=(10,8))\n",
    "ax.hist(df.fuelType) \n",
    "plt.show()"
   ]
  },
  {
   "cell_type": "markdown",
   "id": "e46a0cde",
   "metadata": {},
   "source": [
    "## 1.7 Engine Size "
   ]
  },
  {
   "cell_type": "code",
   "execution_count": 98,
   "id": "d9b9737b",
   "metadata": {},
   "outputs": [
    {
     "data": {
      "image/png": "[encoded data removed]",
      "text/plain": [
       "<Figure size 720x576 with 1 Axes>"
      ]
     },
     "metadata": {},
     "output_type": "display_data"
    }
   ],
   "source": [
    "fig, ax = plt.subplots(figsize=(10,8))\n",
    "ax.hist(df.engineSize) \n",
    "plt.show()"
   ]
  },
  {
   "cell_type": "code",
   "execution_count": null,
   "id": "959a6aed",
   "metadata": {},
   "outputs": [],
   "source": []
  }
 ],
 "metadata": {
  "kernelspec": {
   "display_name": "Python 3 (ipykernel)",
   "language": "python",
   "name": "python3"
  },
  "language_info": {
   "codemirror_mode": {
    "name": "ipython",
    "version": 3
   },
   "file_extension": ".py",
   "mimetype": "text/x-python",
   "name": "python",
   "nbconvert_exporter": "python",
   "pygments_lexer": "ipython3",
   "version": "3.9.12"
  }
 },
 "nbformat": 4,
 "nbformat_minor": 5
}
